{
 "cells": [
  {
   "cell_type": "markdown",
   "metadata": {
    "id": "KdERlTpFuL5V"
   },
   "source": [
    "# Exercises"
   ]
  },
  {
   "cell_type": "markdown",
   "metadata": {
    "id": "to-gsrQyuL5Z"
   },
   "source": [
    "### #1 - Calculate the BMI (body mass index) on the two lists below using NDArrays..."
   ]
  },
  {
   "cell_type": "code",
   "execution_count": 28,
   "metadata": {
    "id": "iZlf9DzeuL5a"
   },
   "outputs": [
    {
     "name": "stdout",
     "output_type": "stream",
     "text": [
      "[16.86620458 17.87755102 18.82562984 19.71450617 20.54794521 21.32943755\n",
      " 22.06222222]\n"
     ]
    }
   ],
   "source": [
    "import numpy as np\n",
    "# formula = weight / (height**2) * 730\n",
    "height = [69, 70, 71, 72, 73, 74, 75]\n",
    "weight = [110, 120, 130, 140, 150, 160, 170]\n",
    "\n",
    "array_weight = np.array(weight)\n",
    "array_height = np.array(height)\n",
    "height_squared = array_height**2\n",
    "weight_over_height = array_weight / height_squared\n",
    "bmi = weight_over_height * 730\n",
    "print(bmi)"
   ]
  },
  {
   "cell_type": "markdown",
   "metadata": {
    "id": "RSsT8w8ouL5b"
   },
   "source": [
    "### #2 - Create a function that will take in two parameters and will create a random matrix based off of those parameters. Extra: Have additional parameters taken in that allow the user to choose the shape and data type of the matrix."
   ]
  },
  {
   "cell_type": "code",
   "execution_count": 45,
   "metadata": {
    "id": "ygFvj0aeuL5b"
   },
   "outputs": [
    {
     "name": "stdout",
     "output_type": "stream",
     "text": [
      "[[3.55663511 7.67006035 3.58642921]\n",
      " [6.21948348 6.69014818 7.36826566]\n",
      " [4.5195224  6.07343743 6.20004188]]\n",
      "\n",
      "\n",
      "[[2 0 8 0]\n",
      " [2 6 0 1]\n",
      " [5 9 2 4]\n",
      " [1 4 9 5]]\n"
     ]
    }
   ],
   "source": [
    "import numpy as np\n",
    "\n",
    "#basic\n",
    "def make_matrix(int_1, int_2):\n",
    "    print(np.random.uniform(int_1, int_2, (3,3)))\n",
    "    \n",
    "make_matrix(3, 8)\n",
    "print(\"\\n\")\n",
    "\n",
    "#extra\n",
    "def fancy_matrix(int_1, int_2, rows, columns, data_type):\n",
    "    m = np.random.uniform(int_1, int_2, (rows, columns))\n",
    "    m = m.astype(data_type)\n",
    "    print(m)\n",
    "    \n",
    "fancy_matrix(0, 10, 4, 4, \"int32\")"
   ]
  },
  {
   "cell_type": "markdown",
   "metadata": {
    "id": "e5mP1UX9uL5c"
   },
   "source": [
    "### #3 - Extra: Open and load the data in the two text files that have the Boston Red Sox hitting data for the past seasons. Compare the difference in the two years by putting the data into an NDArray and running a differencial operation on it. The column to look for will be SLG.\n",
    "\n",
    "Your output should display which year (either 2017 or 2018) was a better year based on SLG"
   ]
  },
  {
   "cell_type": "code",
   "execution_count": null,
   "metadata": {
    "id": "iAExC-SjuL5c"
   },
   "outputs": [],
   "source": [
    "import csv\n",
    "import numpy as np\n",
    "\n",
    "\n"
   ]
  },
  {
   "cell_type": "code",
   "execution_count": 50,
   "metadata": {
    "id": "P8Rwr8lmuL5e"
   },
   "outputs": [
    {
     "name": "stdout",
     "output_type": "stream",
     "text": [
      "Difference between 2017 and 2018 SLG: 1.296999879181385\n",
      "2017 was a better year based on SLG\n"
     ]
    }
   ],
   "source": [
    "FIELDS = ['Rk', 'Pos', 'Name', 'Age', 'G', 'PA', 'AB', 'R', 'H', '2B', '3B', 'HR', 'RBI', 'SB', 'CS', \n",
    "          'BB', 'SO', 'BA', 'OBP', 'SLG', 'OPS', 'OPS+', 'TB', 'GDP', 'HBP', 'SH', 'SF', 'IBB']\n",
    "\n",
    "DATATYPES = [('rk', 'i'), ('pos', '|S25'), ('name', '|S25'), ('age', 'i'), ('g', 'i'), ('pa', 'i'), ('ab', 'i'),\n",
    "                ('r', 'i'), ('h', 'i'), ('2b', 'i'), ('3b', 'i'), ('hr', 'i'), ('rbi', 'i'), ('sb', 'i'), ('cs', 'i'),\n",
    "                ('bb', 'i'), ('so', 'i'), ('ba', 'f'), ('obp', 'f'), ('slg', 'f'), ('ops', 'f'), ('opsp', 'i'),\n",
    "                ('tb', 'i'), ('gdp', 'i'), ('hbp', 'i'), ('sh', 'i'), ('sf', 'i'), ('ibb', 'i')]\n",
    "\n",
    "#Use this function to actually open the data inside of a NDArray\n",
    "\n",
    "def load_data(filename, d = ','):\n",
    "    data = np.genfromtxt(filename, delimiter = d, skip_header = 1, usecols = np.arange(0,24), invalid_raise=False, names = FIELDS, dtype = DATATYPES)\n",
    "    return data\n",
    "\n",
    "bs2017 = load_data('redsox_2017_hitting.txt')\n",
    "bs2018 = load_data('redsox_2018_hitting.txt')\n",
    "\n",
    "diff_slg = sum(bs2017[\"SLG\"]) - sum(bs2018[\"SLG\"])\n",
    "print(f\"Difference between 2017 and 2018 SLG: {diff_slg}\")\n",
    "\n",
    "if sum(bs2017[\"SLG\"]) > sum(bs2018[\"SLG\"]):\n",
    "    print(\"2017 was a better year based on SLG\")\n",
    "else:\n",
    "    print(\"2018 was a better year based on SLG\")"
   ]
  },
  {
   "cell_type": "code",
   "execution_count": null,
   "metadata": {},
   "outputs": [],
   "source": []
  }
 ],
 "metadata": {
  "colab": {
   "name": "Copy of Data_Science_Day_1_Exercises-Day1- Homework.ipynb",
   "provenance": []
  },
  "kernelspec": {
   "display_name": "Python 3 (ipykernel)",
   "language": "python",
   "name": "python3"
  },
  "language_info": {
   "codemirror_mode": {
    "name": "ipython",
    "version": 3
   },
   "file_extension": ".py",
   "mimetype": "text/x-python",
   "name": "python",
   "nbconvert_exporter": "python",
   "pygments_lexer": "ipython3",
   "version": "3.9.12"
  }
 },
 "nbformat": 4,
 "nbformat_minor": 1
}
